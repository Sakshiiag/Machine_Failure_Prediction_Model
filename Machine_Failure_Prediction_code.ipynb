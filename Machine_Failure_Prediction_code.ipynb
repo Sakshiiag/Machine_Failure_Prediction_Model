{
 "cells": [
  {
   "cell_type": "markdown",
   "id": "a411ee22-3393-45fa-a1ac-7a57fd323c0b",
   "metadata": {},
   "source": [
    "IMPORTING NECESSARY LIBRARIES"
   ]
  },
  {
   "cell_type": "code",
   "execution_count": 1,
   "id": "52a346f2-6c1e-4031-8280-09f72a247015",
   "metadata": {},
   "outputs": [],
   "source": [
    "import numpy as np\n",
    "import pandas as pd\n",
    "import matplotlib.pyplot as plt\n",
    "import seaborn as sns\n",
    "from sklearn.model_selection import train_test_split \n",
    "from sklearn.linear_model import LogisticRegression\n",
    "from sklearn.metrics import accuracy_score"
   ]
  },
  {
   "cell_type": "markdown",
   "id": "4b649e89-d48f-4da4-9363-e641aaf81a68",
   "metadata": {},
   "source": [
    "IMPORTING OUR DATASET"
   ]
  },
  {
   "cell_type": "code",
   "execution_count": 3,
   "id": "d1603d7b-d512-45f5-af5b-d100b99a54e8",
   "metadata": {},
   "outputs": [
    {
     "data": {
      "text/html": [
       "<div>\n",
       "<style scoped>\n",
       "    .dataframe tbody tr th:only-of-type {\n",
       "        vertical-align: middle;\n",
       "    }\n",
       "\n",
       "    .dataframe tbody tr th {\n",
       "        vertical-align: top;\n",
       "    }\n",
       "\n",
       "    .dataframe thead th {\n",
       "        text-align: right;\n",
       "    }\n",
       "</style>\n",
       "<table border=\"1\" class=\"dataframe\">\n",
       "  <thead>\n",
       "    <tr style=\"text-align: right;\">\n",
       "      <th></th>\n",
       "      <th>footfall</th>\n",
       "      <th>tempMode</th>\n",
       "      <th>AQ</th>\n",
       "      <th>USS</th>\n",
       "      <th>CS</th>\n",
       "      <th>VOC</th>\n",
       "      <th>RP</th>\n",
       "      <th>IP</th>\n",
       "      <th>Temperature</th>\n",
       "      <th>fail</th>\n",
       "    </tr>\n",
       "  </thead>\n",
       "  <tbody>\n",
       "    <tr>\n",
       "      <th>0</th>\n",
       "      <td>0</td>\n",
       "      <td>7</td>\n",
       "      <td>7</td>\n",
       "      <td>1</td>\n",
       "      <td>6</td>\n",
       "      <td>6</td>\n",
       "      <td>36</td>\n",
       "      <td>3</td>\n",
       "      <td>1</td>\n",
       "      <td>1</td>\n",
       "    </tr>\n",
       "    <tr>\n",
       "      <th>1</th>\n",
       "      <td>190</td>\n",
       "      <td>1</td>\n",
       "      <td>3</td>\n",
       "      <td>3</td>\n",
       "      <td>5</td>\n",
       "      <td>1</td>\n",
       "      <td>20</td>\n",
       "      <td>4</td>\n",
       "      <td>1</td>\n",
       "      <td>0</td>\n",
       "    </tr>\n",
       "    <tr>\n",
       "      <th>2</th>\n",
       "      <td>31</td>\n",
       "      <td>7</td>\n",
       "      <td>2</td>\n",
       "      <td>2</td>\n",
       "      <td>6</td>\n",
       "      <td>1</td>\n",
       "      <td>24</td>\n",
       "      <td>6</td>\n",
       "      <td>1</td>\n",
       "      <td>0</td>\n",
       "    </tr>\n",
       "    <tr>\n",
       "      <th>3</th>\n",
       "      <td>83</td>\n",
       "      <td>4</td>\n",
       "      <td>3</td>\n",
       "      <td>4</td>\n",
       "      <td>5</td>\n",
       "      <td>1</td>\n",
       "      <td>28</td>\n",
       "      <td>6</td>\n",
       "      <td>1</td>\n",
       "      <td>0</td>\n",
       "    </tr>\n",
       "    <tr>\n",
       "      <th>4</th>\n",
       "      <td>640</td>\n",
       "      <td>7</td>\n",
       "      <td>5</td>\n",
       "      <td>6</td>\n",
       "      <td>4</td>\n",
       "      <td>0</td>\n",
       "      <td>68</td>\n",
       "      <td>6</td>\n",
       "      <td>1</td>\n",
       "      <td>0</td>\n",
       "    </tr>\n",
       "    <tr>\n",
       "      <th>...</th>\n",
       "      <td>...</td>\n",
       "      <td>...</td>\n",
       "      <td>...</td>\n",
       "      <td>...</td>\n",
       "      <td>...</td>\n",
       "      <td>...</td>\n",
       "      <td>...</td>\n",
       "      <td>...</td>\n",
       "      <td>...</td>\n",
       "      <td>...</td>\n",
       "    </tr>\n",
       "    <tr>\n",
       "      <th>939</th>\n",
       "      <td>0</td>\n",
       "      <td>7</td>\n",
       "      <td>7</td>\n",
       "      <td>1</td>\n",
       "      <td>6</td>\n",
       "      <td>4</td>\n",
       "      <td>73</td>\n",
       "      <td>6</td>\n",
       "      <td>24</td>\n",
       "      <td>1</td>\n",
       "    </tr>\n",
       "    <tr>\n",
       "      <th>940</th>\n",
       "      <td>0</td>\n",
       "      <td>7</td>\n",
       "      <td>5</td>\n",
       "      <td>2</td>\n",
       "      <td>6</td>\n",
       "      <td>6</td>\n",
       "      <td>50</td>\n",
       "      <td>6</td>\n",
       "      <td>24</td>\n",
       "      <td>1</td>\n",
       "    </tr>\n",
       "    <tr>\n",
       "      <th>941</th>\n",
       "      <td>0</td>\n",
       "      <td>3</td>\n",
       "      <td>6</td>\n",
       "      <td>2</td>\n",
       "      <td>7</td>\n",
       "      <td>5</td>\n",
       "      <td>43</td>\n",
       "      <td>6</td>\n",
       "      <td>24</td>\n",
       "      <td>1</td>\n",
       "    </tr>\n",
       "    <tr>\n",
       "      <th>942</th>\n",
       "      <td>0</td>\n",
       "      <td>6</td>\n",
       "      <td>6</td>\n",
       "      <td>2</td>\n",
       "      <td>5</td>\n",
       "      <td>6</td>\n",
       "      <td>46</td>\n",
       "      <td>7</td>\n",
       "      <td>24</td>\n",
       "      <td>1</td>\n",
       "    </tr>\n",
       "    <tr>\n",
       "      <th>943</th>\n",
       "      <td>18</td>\n",
       "      <td>7</td>\n",
       "      <td>4</td>\n",
       "      <td>2</td>\n",
       "      <td>6</td>\n",
       "      <td>3</td>\n",
       "      <td>61</td>\n",
       "      <td>7</td>\n",
       "      <td>24</td>\n",
       "      <td>1</td>\n",
       "    </tr>\n",
       "  </tbody>\n",
       "</table>\n",
       "<p>944 rows × 10 columns</p>\n",
       "</div>"
      ],
      "text/plain": [
       "     footfall  tempMode  AQ  USS  CS  VOC  RP  IP  Temperature  fail\n",
       "0           0         7   7    1   6    6  36   3            1     1\n",
       "1         190         1   3    3   5    1  20   4            1     0\n",
       "2          31         7   2    2   6    1  24   6            1     0\n",
       "3          83         4   3    4   5    1  28   6            1     0\n",
       "4         640         7   5    6   4    0  68   6            1     0\n",
       "..        ...       ...  ..  ...  ..  ...  ..  ..          ...   ...\n",
       "939         0         7   7    1   6    4  73   6           24     1\n",
       "940         0         7   5    2   6    6  50   6           24     1\n",
       "941         0         3   6    2   7    5  43   6           24     1\n",
       "942         0         6   6    2   5    6  46   7           24     1\n",
       "943        18         7   4    2   6    3  61   7           24     1\n",
       "\n",
       "[944 rows x 10 columns]"
      ]
     },
     "execution_count": 3,
     "metadata": {},
     "output_type": "execute_result"
    }
   ],
   "source": [
    "data=pd.read_csv(\"C:/Users/saksh/Documents/New folder/data (1).csv\", encoding = 'latin-1')\n",
    "data"
   ]
  },
  {
   "cell_type": "markdown",
   "id": "d89db662-22a1-4ac5-aa98-18282b18b436",
   "metadata": {},
   "source": [
    "CHECKING FOR NULL VALUES"
   ]
  },
  {
   "cell_type": "code",
   "execution_count": 5,
   "id": "853cd87a-1d91-4434-ac0f-716fa87c9bf9",
   "metadata": {},
   "outputs": [
    {
     "data": {
      "text/plain": [
       "footfall       0\n",
       "tempMode       0\n",
       "AQ             0\n",
       "USS            0\n",
       "CS             0\n",
       "VOC            0\n",
       "RP             0\n",
       "IP             0\n",
       "Temperature    0\n",
       "fail           0\n",
       "dtype: int64"
      ]
     },
     "execution_count": 5,
     "metadata": {},
     "output_type": "execute_result"
    }
   ],
   "source": [
    "data.isnull().sum()"
   ]
  },
  {
   "cell_type": "markdown",
   "id": "f8fe7882-a3f8-4f7e-97a0-c0c5ff280969",
   "metadata": {},
   "source": [
    "NO NULL VALUES"
   ]
  },
  {
   "cell_type": "code",
   "execution_count": 7,
   "id": "47f068d4-d473-4f7a-9ba9-2b8e2fbb004b",
   "metadata": {},
   "outputs": [
    {
     "data": {
      "text/html": [
       "<div>\n",
       "<style scoped>\n",
       "    .dataframe tbody tr th:only-of-type {\n",
       "        vertical-align: middle;\n",
       "    }\n",
       "\n",
       "    .dataframe tbody tr th {\n",
       "        vertical-align: top;\n",
       "    }\n",
       "\n",
       "    .dataframe thead th {\n",
       "        text-align: right;\n",
       "    }\n",
       "</style>\n",
       "<table border=\"1\" class=\"dataframe\">\n",
       "  <thead>\n",
       "    <tr style=\"text-align: right;\">\n",
       "      <th></th>\n",
       "      <th>footfall</th>\n",
       "      <th>tempMode</th>\n",
       "      <th>AQ</th>\n",
       "      <th>USS</th>\n",
       "      <th>CS</th>\n",
       "      <th>VOC</th>\n",
       "      <th>RP</th>\n",
       "      <th>IP</th>\n",
       "      <th>Temperature</th>\n",
       "      <th>fail</th>\n",
       "    </tr>\n",
       "  </thead>\n",
       "  <tbody>\n",
       "    <tr>\n",
       "      <th>0</th>\n",
       "      <td>0</td>\n",
       "      <td>7</td>\n",
       "      <td>7</td>\n",
       "      <td>1</td>\n",
       "      <td>6</td>\n",
       "      <td>6</td>\n",
       "      <td>36</td>\n",
       "      <td>3</td>\n",
       "      <td>1</td>\n",
       "      <td>1</td>\n",
       "    </tr>\n",
       "    <tr>\n",
       "      <th>1</th>\n",
       "      <td>190</td>\n",
       "      <td>1</td>\n",
       "      <td>3</td>\n",
       "      <td>3</td>\n",
       "      <td>5</td>\n",
       "      <td>1</td>\n",
       "      <td>20</td>\n",
       "      <td>4</td>\n",
       "      <td>1</td>\n",
       "      <td>0</td>\n",
       "    </tr>\n",
       "    <tr>\n",
       "      <th>2</th>\n",
       "      <td>31</td>\n",
       "      <td>7</td>\n",
       "      <td>2</td>\n",
       "      <td>2</td>\n",
       "      <td>6</td>\n",
       "      <td>1</td>\n",
       "      <td>24</td>\n",
       "      <td>6</td>\n",
       "      <td>1</td>\n",
       "      <td>0</td>\n",
       "    </tr>\n",
       "    <tr>\n",
       "      <th>3</th>\n",
       "      <td>83</td>\n",
       "      <td>4</td>\n",
       "      <td>3</td>\n",
       "      <td>4</td>\n",
       "      <td>5</td>\n",
       "      <td>1</td>\n",
       "      <td>28</td>\n",
       "      <td>6</td>\n",
       "      <td>1</td>\n",
       "      <td>0</td>\n",
       "    </tr>\n",
       "    <tr>\n",
       "      <th>4</th>\n",
       "      <td>640</td>\n",
       "      <td>7</td>\n",
       "      <td>5</td>\n",
       "      <td>6</td>\n",
       "      <td>4</td>\n",
       "      <td>0</td>\n",
       "      <td>68</td>\n",
       "      <td>6</td>\n",
       "      <td>1</td>\n",
       "      <td>0</td>\n",
       "    </tr>\n",
       "  </tbody>\n",
       "</table>\n",
       "</div>"
      ],
      "text/plain": [
       "   footfall  tempMode  AQ  USS  CS  VOC  RP  IP  Temperature  fail\n",
       "0         0         7   7    1   6    6  36   3            1     1\n",
       "1       190         1   3    3   5    1  20   4            1     0\n",
       "2        31         7   2    2   6    1  24   6            1     0\n",
       "3        83         4   3    4   5    1  28   6            1     0\n",
       "4       640         7   5    6   4    0  68   6            1     0"
      ]
     },
     "execution_count": 7,
     "metadata": {},
     "output_type": "execute_result"
    }
   ],
   "source": [
    "data.head()"
   ]
  },
  {
   "cell_type": "markdown",
   "id": "5173c780-81be-4112-8bf9-8f53bfc1538d",
   "metadata": {},
   "source": [
    "EXPLORATORY DATA ANALYSIS"
   ]
  },
  {
   "cell_type": "markdown",
   "id": "224f5c4b-5c35-438c-91fc-09bbdf7e9f14",
   "metadata": {},
   "source": [
    "GROUPING DATA"
   ]
  },
  {
   "cell_type": "code",
   "execution_count": 9,
   "id": "11ffd564-a162-4c98-9c5c-12c80eb8dd4a",
   "metadata": {},
   "outputs": [
    {
     "data": {
      "text/plain": [
       "fail\n",
       "0    373.150635\n",
       "1    212.768448\n",
       "Name: footfall, dtype: float64"
      ]
     },
     "execution_count": 9,
     "metadata": {},
     "output_type": "execute_result"
    }
   ],
   "source": [
    "data.groupby('fail')['footfall'].mean()"
   ]
  },
  {
   "cell_type": "code",
   "execution_count": 11,
   "id": "4b0b7816-3a2f-4280-96ea-f7a2e9ab169c",
   "metadata": {},
   "outputs": [
    {
     "data": {
      "text/plain": [
       "fail\n",
       "0    3.760436\n",
       "1    3.681934\n",
       "Name: tempMode, dtype: float64"
      ]
     },
     "execution_count": 11,
     "metadata": {},
     "output_type": "execute_result"
    }
   ],
   "source": [
    "data.groupby('fail')['tempMode'].mean()"
   ]
  },
  {
   "cell_type": "code",
   "execution_count": 13,
   "id": "0e8df9fe-ee0f-4e5e-b367-800223d7a481",
   "metadata": {},
   "outputs": [
    {
     "data": {
      "text/plain": [
       "fail\n",
       "0    3.617060\n",
       "1    5.318066\n",
       "Name: AQ, dtype: float64"
      ]
     },
     "execution_count": 13,
     "metadata": {},
     "output_type": "execute_result"
    }
   ],
   "source": [
    "data.groupby('fail')['AQ'].mean()"
   ]
  },
  {
   "cell_type": "code",
   "execution_count": 15,
   "id": "df274e5c-0c8e-4ee0-a58d-9b63681ec118",
   "metadata": {},
   "outputs": [
    {
     "data": {
      "text/plain": [
       "fail\n",
       "0    3.484574\n",
       "1    2.175573\n",
       "Name: USS, dtype: float64"
      ]
     },
     "execution_count": 15,
     "metadata": {},
     "output_type": "execute_result"
    }
   ],
   "source": [
    "data.groupby('fail')['USS'].mean()"
   ]
  },
  {
   "cell_type": "code",
   "execution_count": 17,
   "id": "c77c4e96-9372-4918-8510-f17142ed2cfd",
   "metadata": {},
   "outputs": [
    {
     "data": {
      "text/plain": [
       "fail\n",
       "0    5.373866\n",
       "1    5.422392\n",
       "Name: CS, dtype: float64"
      ]
     },
     "execution_count": 17,
     "metadata": {},
     "output_type": "execute_result"
    }
   ],
   "source": [
    "data.groupby('fail')['CS'].mean()"
   ]
  },
  {
   "cell_type": "code",
   "execution_count": 19,
   "id": "7f64b848-3daa-4366-a728-e6e54e89b921",
   "metadata": {},
   "outputs": [
    {
     "data": {
      "text/plain": [
       "fail\n",
       "0    1.312160\n",
       "1    4.987277\n",
       "Name: VOC, dtype: float64"
      ]
     },
     "execution_count": 19,
     "metadata": {},
     "output_type": "execute_result"
    }
   ],
   "source": [
    "data.groupby('fail')['VOC'].mean()"
   ]
  },
  {
   "cell_type": "code",
   "execution_count": 21,
   "id": "19d622ab-c90a-4cfd-8d2e-0d33faacdcdd",
   "metadata": {},
   "outputs": [
    {
     "data": {
      "text/plain": [
       "fail\n",
       "0    46.299456\n",
       "1    48.086514\n",
       "Name: RP, dtype: float64"
      ]
     },
     "execution_count": 21,
     "metadata": {},
     "output_type": "execute_result"
    }
   ],
   "source": [
    "data.groupby('fail')['RP'].mean()"
   ]
  },
  {
   "cell_type": "code",
   "execution_count": 23,
   "id": "b45f4636-5ee2-47a3-b820-c767d710fb4f",
   "metadata": {},
   "outputs": [
    {
     "data": {
      "text/plain": [
       "fail\n",
       "0    4.450091\n",
       "1    4.727735\n",
       "Name: IP, dtype: float64"
      ]
     },
     "execution_count": 23,
     "metadata": {},
     "output_type": "execute_result"
    }
   ],
   "source": [
    "data.groupby('fail')['IP'].mean()"
   ]
  },
  {
   "cell_type": "markdown",
   "id": "bdf15488-b6cd-4b0e-b1a8-a5f5bdfbd809",
   "metadata": {},
   "source": [
    "DATA VISUALIZATION"
   ]
  },
  {
   "cell_type": "code",
   "execution_count": 27,
   "id": "92782cbf-b2ec-4cc9-9efe-8c83b94ae27c",
   "metadata": {},
   "outputs": [
    {
     "data": {
      "text/html": [
       "<div>\n",
       "<style scoped>\n",
       "    .dataframe tbody tr th:only-of-type {\n",
       "        vertical-align: middle;\n",
       "    }\n",
       "\n",
       "    .dataframe tbody tr th {\n",
       "        vertical-align: top;\n",
       "    }\n",
       "\n",
       "    .dataframe thead th {\n",
       "        text-align: right;\n",
       "    }\n",
       "</style>\n",
       "<table border=\"1\" class=\"dataframe\">\n",
       "  <thead>\n",
       "    <tr style=\"text-align: right;\">\n",
       "      <th></th>\n",
       "      <th>footfall</th>\n",
       "      <th>tempMode</th>\n",
       "      <th>AQ</th>\n",
       "      <th>USS</th>\n",
       "      <th>CS</th>\n",
       "      <th>VOC</th>\n",
       "      <th>RP</th>\n",
       "      <th>IP</th>\n",
       "      <th>Temperature</th>\n",
       "      <th>fail</th>\n",
       "    </tr>\n",
       "  </thead>\n",
       "  <tbody>\n",
       "    <tr>\n",
       "      <th>footfall</th>\n",
       "      <td>1.000000</td>\n",
       "      <td>0.020457</td>\n",
       "      <td>-0.065816</td>\n",
       "      <td>0.019453</td>\n",
       "      <td>0.025638</td>\n",
       "      <td>-0.089590</td>\n",
       "      <td>-0.043720</td>\n",
       "      <td>-0.003869</td>\n",
       "      <td>-0.018009</td>\n",
       "      <td>-0.073066</td>\n",
       "    </tr>\n",
       "    <tr>\n",
       "      <th>tempMode</th>\n",
       "      <td>0.020457</td>\n",
       "      <td>1.000000</td>\n",
       "      <td>-0.010855</td>\n",
       "      <td>0.002142</td>\n",
       "      <td>-0.013956</td>\n",
       "      <td>-0.052369</td>\n",
       "      <td>0.408784</td>\n",
       "      <td>-0.058109</td>\n",
       "      <td>-0.062568</td>\n",
       "      <td>-0.014462</td>\n",
       "    </tr>\n",
       "    <tr>\n",
       "      <th>AQ</th>\n",
       "      <td>-0.065816</td>\n",
       "      <td>-0.010855</td>\n",
       "      <td>1.000000</td>\n",
       "      <td>-0.156884</td>\n",
       "      <td>-0.090010</td>\n",
       "      <td>0.618570</td>\n",
       "      <td>0.094656</td>\n",
       "      <td>-0.105868</td>\n",
       "      <td>0.034328</td>\n",
       "      <td>0.583238</td>\n",
       "    </tr>\n",
       "    <tr>\n",
       "      <th>USS</th>\n",
       "      <td>0.019453</td>\n",
       "      <td>0.002142</td>\n",
       "      <td>-0.156884</td>\n",
       "      <td>1.000000</td>\n",
       "      <td>-0.352915</td>\n",
       "      <td>-0.399477</td>\n",
       "      <td>-0.032549</td>\n",
       "      <td>-0.206416</td>\n",
       "      <td>-0.225122</td>\n",
       "      <td>-0.466574</td>\n",
       "    </tr>\n",
       "    <tr>\n",
       "      <th>CS</th>\n",
       "      <td>0.025638</td>\n",
       "      <td>-0.013956</td>\n",
       "      <td>-0.090010</td>\n",
       "      <td>-0.352915</td>\n",
       "      <td>1.000000</td>\n",
       "      <td>0.048037</td>\n",
       "      <td>-0.026968</td>\n",
       "      <td>0.185739</td>\n",
       "      <td>0.143972</td>\n",
       "      <td>0.018855</td>\n",
       "    </tr>\n",
       "    <tr>\n",
       "      <th>VOC</th>\n",
       "      <td>-0.089590</td>\n",
       "      <td>-0.052369</td>\n",
       "      <td>0.618570</td>\n",
       "      <td>-0.399477</td>\n",
       "      <td>0.048037</td>\n",
       "      <td>1.000000</td>\n",
       "      <td>0.008023</td>\n",
       "      <td>0.103628</td>\n",
       "      <td>0.208956</td>\n",
       "      <td>0.797329</td>\n",
       "    </tr>\n",
       "    <tr>\n",
       "      <th>RP</th>\n",
       "      <td>-0.043720</td>\n",
       "      <td>0.408784</td>\n",
       "      <td>0.094656</td>\n",
       "      <td>-0.032549</td>\n",
       "      <td>-0.026968</td>\n",
       "      <td>0.008023</td>\n",
       "      <td>1.000000</td>\n",
       "      <td>-0.158841</td>\n",
       "      <td>-0.078499</td>\n",
       "      <td>0.053668</td>\n",
       "    </tr>\n",
       "    <tr>\n",
       "      <th>IP</th>\n",
       "      <td>-0.003869</td>\n",
       "      <td>-0.058109</td>\n",
       "      <td>-0.105868</td>\n",
       "      <td>-0.206416</td>\n",
       "      <td>0.185739</td>\n",
       "      <td>0.103628</td>\n",
       "      <td>-0.158841</td>\n",
       "      <td>1.000000</td>\n",
       "      <td>0.372771</td>\n",
       "      <td>0.085624</td>\n",
       "    </tr>\n",
       "    <tr>\n",
       "      <th>Temperature</th>\n",
       "      <td>-0.018009</td>\n",
       "      <td>-0.062568</td>\n",
       "      <td>0.034328</td>\n",
       "      <td>-0.225122</td>\n",
       "      <td>0.143972</td>\n",
       "      <td>0.208956</td>\n",
       "      <td>-0.078499</td>\n",
       "      <td>0.372771</td>\n",
       "      <td>1.000000</td>\n",
       "      <td>0.190257</td>\n",
       "    </tr>\n",
       "    <tr>\n",
       "      <th>fail</th>\n",
       "      <td>-0.073066</td>\n",
       "      <td>-0.014462</td>\n",
       "      <td>0.583238</td>\n",
       "      <td>-0.466574</td>\n",
       "      <td>0.018855</td>\n",
       "      <td>0.797329</td>\n",
       "      <td>0.053668</td>\n",
       "      <td>0.085624</td>\n",
       "      <td>0.190257</td>\n",
       "      <td>1.000000</td>\n",
       "    </tr>\n",
       "  </tbody>\n",
       "</table>\n",
       "</div>"
      ],
      "text/plain": [
       "             footfall  tempMode        AQ       USS        CS       VOC  \\\n",
       "footfall     1.000000  0.020457 -0.065816  0.019453  0.025638 -0.089590   \n",
       "tempMode     0.020457  1.000000 -0.010855  0.002142 -0.013956 -0.052369   \n",
       "AQ          -0.065816 -0.010855  1.000000 -0.156884 -0.090010  0.618570   \n",
       "USS          0.019453  0.002142 -0.156884  1.000000 -0.352915 -0.399477   \n",
       "CS           0.025638 -0.013956 -0.090010 -0.352915  1.000000  0.048037   \n",
       "VOC         -0.089590 -0.052369  0.618570 -0.399477  0.048037  1.000000   \n",
       "RP          -0.043720  0.408784  0.094656 -0.032549 -0.026968  0.008023   \n",
       "IP          -0.003869 -0.058109 -0.105868 -0.206416  0.185739  0.103628   \n",
       "Temperature -0.018009 -0.062568  0.034328 -0.225122  0.143972  0.208956   \n",
       "fail        -0.073066 -0.014462  0.583238 -0.466574  0.018855  0.797329   \n",
       "\n",
       "                   RP        IP  Temperature      fail  \n",
       "footfall    -0.043720 -0.003869    -0.018009 -0.073066  \n",
       "tempMode     0.408784 -0.058109    -0.062568 -0.014462  \n",
       "AQ           0.094656 -0.105868     0.034328  0.583238  \n",
       "USS         -0.032549 -0.206416    -0.225122 -0.466574  \n",
       "CS          -0.026968  0.185739     0.143972  0.018855  \n",
       "VOC          0.008023  0.103628     0.208956  0.797329  \n",
       "RP           1.000000 -0.158841    -0.078499  0.053668  \n",
       "IP          -0.158841  1.000000     0.372771  0.085624  \n",
       "Temperature -0.078499  0.372771     1.000000  0.190257  \n",
       "fail         0.053668  0.085624     0.190257  1.000000  "
      ]
     },
     "execution_count": 27,
     "metadata": {},
     "output_type": "execute_result"
    }
   ],
   "source": [
    "corr=data.corr()\n",
    "corr"
   ]
  },
  {
   "cell_type": "code",
   "execution_count": 64,
   "id": "f1faff0b-6f83-47b9-a672-d9a1282964e4",
   "metadata": {},
   "outputs": [
    {
     "data": {
      "image/png": "[encoded data removed]",
      "text/plain": [
       "<Figure size 1600x900 with 2 Axes>"
      ]
     },
     "metadata": {},
     "output_type": "display_data"
    }
   ],
   "source": [
    "fig = plt.figure(figsize=(16,9))\n",
    "sns.heatmap(corr, annot=True,cmap='Blues', fmt = \".2f\")\n",
    "plt.title(\"Correlation Heatmap\")\n",
    "fig.savefig('test.png')"
   ]
  },
  {
   "cell_type": "markdown",
   "id": "7d3df8ca-3012-4921-8164-3b72a404d41e",
   "metadata": {},
   "source": [
    "SELECTION OF FEATURES"
   ]
  },
  {
   "cell_type": "code",
   "execution_count": 31,
   "id": "dce0978b-67d6-4382-921c-957a68142603",
   "metadata": {},
   "outputs": [],
   "source": [
    "X=data[['AQ','USS','VOC','Temperature']]\n",
    "Y=data['fail']"
   ]
  },
  {
   "cell_type": "markdown",
   "id": "4c713000-f2bc-439f-a9c8-ba38c6f112e7",
   "metadata": {},
   "source": [
    "SPLITTING THE TRAINING AND TESTING DATA"
   ]
  },
  {
   "cell_type": "code",
   "execution_count": 33,
   "id": "42b34707-5e33-423d-9017-540abfda7dfd",
   "metadata": {},
   "outputs": [],
   "source": [
    "x_train,x_test,y_train,y_test=train_test_split(X,Y,test_size=0.2,random_state=20)"
   ]
  },
  {
   "cell_type": "code",
   "execution_count": 39,
   "id": "9fab55ce-bce0-437f-8f5a-dc41e5951aa8",
   "metadata": {},
   "outputs": [
    {
     "name": "stdout",
     "output_type": "stream",
     "text": [
      "(944, 4) (755, 4) (189, 4)\n"
     ]
    }
   ],
   "source": [
    "print(X.shape, x_train.shape, x_test.shape)"
   ]
  },
  {
   "cell_type": "markdown",
   "id": "4dd83cc8-2574-421d-afa5-ebc83b3aef0f",
   "metadata": {},
   "source": [
    "MODEL TRAINING"
   ]
  },
  {
   "cell_type": "code",
   "execution_count": 41,
   "id": "cd4f4f84-074b-4498-8aab-63662549b6a3",
   "metadata": {},
   "outputs": [
    {
     "name": "stdout",
     "output_type": "stream",
     "text": [
      "0.9125827814569536\n",
      "0.9206349206349206\n"
     ]
    }
   ],
   "source": [
    "model=LogisticRegression()\n",
    "model.fit(x_train,y_train)\n",
    "train_pred=model.predict(x_train)\n",
    "test_pred=model.predict(x_test)\n",
    "print(accuracy_score(y_train,train_pred))\n",
    "print(accuracy_score(y_test,test_pred))"
   ]
  },
  {
   "cell_type": "markdown",
   "id": "d47287cd-2c85-46ee-8e8b-e55c549f65fb",
   "metadata": {},
   "source": [
    "MODEL TESTING"
   ]
  },
  {
   "cell_type": "code",
   "execution_count": 60,
   "id": "d0387632-989c-4ce4-89be-293f6cbe8ac4",
   "metadata": {},
   "outputs": [
    {
     "name": "stdout",
     "output_type": "stream",
     "text": [
      "* Running on local URL:  http://127.0.0.1:7866\n",
      "\n",
      "Could not create share link. Please check your internet connection or our status page: https://status.gradio.app.\n"
     ]
    },
    {
     "data": {
      "text/html": [
       "<div><iframe src=\"http://127.0.0.1:7866/\" width=\"100%\" height=\"500\" allow=\"autoplay; camera; microphone; clipboard-read; clipboard-write;\" frameborder=\"0\" allowfullscreen></iframe></div>"
      ],
      "text/plain": [
       "<IPython.core.display.HTML object>"
      ]
     },
     "metadata": {},
     "output_type": "display_data"
    },
    {
     "data": {
      "text/plain": []
     },
     "execution_count": 60,
     "metadata": {},
     "output_type": "execute_result"
    }
   ],
   "source": [
    "import gradio as gr\n",
    "def predict(footfall,tempMode,AQ,USS,CS,VOC,RP,IP,Temperature):\n",
    "    footfall=int(footfall)\n",
    "    tempMode=int(tempMode)\n",
    "    AQ=int(AQ)\n",
    "    USS=int(USS)\n",
    "    CS=int(CS)\n",
    "    VOC=int(VOC)\n",
    "    RP=int(RP)\n",
    "    IP=int(IP)\n",
    "    Temperature=int(Temperature)\n",
    "    features=[[AQ, USS, VOC, Temperature]]\n",
    "    prediction=model.predict(features)[0]\n",
    "    if(prediction==1):\n",
    "        return \"Machine has failed (1)\"\n",
    "    else:\n",
    "        return \"Machine is healthy (0)\"\n",
    "\n",
    "demo=gr.Interface(\n",
    "    fn=predict,\n",
    "    inputs=[\n",
    "        \"number\",\"number\",\"number\",\"number\",\"number\",\"number\",\"number\",\"number\",\"number\"\n",
    "    ],\n",
    "    outputs=[\"text\"],\n",
    ")\n",
    "demo.launch(share=True)"
   ]
  }
 ],
 "metadata": {
  "kernelspec": {
   "display_name": "Python 3 (ipykernel)",
   "language": "python",
   "name": "python3"
  },
  "language_info": {
   "codemirror_mode": {
    "name": "ipython",
    "version": 3
   },
   "file_extension": ".py",
   "mimetype": "text/x-python",
   "name": "python",
   "nbconvert_exporter": "python",
   "pygments_lexer": "ipython3",
   "version": "3.12.4"
  }
 },
 "nbformat": 4,
 "nbformat_minor": 5
}
